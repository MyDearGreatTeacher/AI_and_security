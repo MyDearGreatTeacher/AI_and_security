{
  "nbformat": 4,
  "nbformat_minor": 0,
  "metadata": {
    "colab": {
      "name": "KERAS_MLPex1.ipynb",
      "version": "0.3.2",
      "provenance": [],
      "include_colab_link": true
    },
    "kernelspec": {
      "name": "python3",
      "display_name": "Python 3"
    }
  },
  "cells": [
    {
      "cell_type": "markdown",
      "metadata": {
        "id": "view-in-github",
        "colab_type": "text"
      },
      "source": [
        "<a href=\"https://colab.research.google.com/github/MyDearGreatTeacher/AI_and_security/blob/master/KERAS_MLPex1.ipynb\" target=\"_parent\"><img src=\"https://colab.research.google.com/assets/colab-badge.svg\" alt=\"Open In Colab\"/></a>"
      ]
    },
    {
      "metadata": {
        "id": "X_0Um-Z5H6ME",
        "colab_type": "code",
        "colab": {}
      },
      "cell_type": "code",
      "source": [
        ""
      ],
      "execution_count": 0,
      "outputs": []
    },
    {
      "metadata": {
        "id": "SJ2455amH7KL",
        "colab_type": "text"
      },
      "cell_type": "markdown",
      "source": [
        "範例\n",
        "\n",
        "https://keras.io/getting-started/sequential-model-guide/"
      ]
    },
    {
      "metadata": {
        "id": "W3UMXMYhIyXa",
        "colab_type": "code",
        "colab": {
          "base_uri": "https://localhost:8080/",
          "height": 706
        },
        "outputId": "17d738d5-6203-4760-fd41-bcdc3ab03b5a"
      },
      "cell_type": "code",
      "source": [
        "import numpy as np\n",
        "from keras.models import Sequential\n",
        "from keras.layers import Dense, Dropout\n",
        "\n",
        "# Generate dummy data\n",
        "x_train = np.random.random((1000, 20))\n",
        "y_train = np.random.randint(2, size=(1000, 1))\n",
        "x_test = np.random.random((100, 20))\n",
        "y_test = np.random.randint(2, size=(100, 1))\n",
        "\n",
        "model = Sequential()\n",
        "model.add(Dense(64, input_dim=20, activation='relu'))\n",
        "model.add(Dropout(0.5))\n",
        "model.add(Dense(64, activation='relu'))\n",
        "model.add(Dropout(0.5))\n",
        "model.add(Dense(1, activation='sigmoid'))\n",
        "\n",
        "model.compile(loss='binary_crossentropy',\n",
        "              optimizer='rmsprop',\n",
        "              metrics=['accuracy'])\n",
        "\n",
        "model.fit(x_train, y_train,\n",
        "          epochs=20,\n",
        "          batch_size=128)\n",
        "score = model.evaluate(x_test, y_test, batch_size=128)"
      ],
      "execution_count": 2,
      "outputs": [
        {
          "output_type": "stream",
          "text": [
            "Epoch 1/20\n",
            "1000/1000 [==============================] - 0s 249us/step - loss: 0.7238 - acc: 0.4750\n",
            "Epoch 2/20\n",
            "1000/1000 [==============================] - 0s 25us/step - loss: 0.7146 - acc: 0.4910\n",
            "Epoch 3/20\n",
            "1000/1000 [==============================] - 0s 23us/step - loss: 0.7082 - acc: 0.4960\n",
            "Epoch 4/20\n",
            "1000/1000 [==============================] - 0s 20us/step - loss: 0.6991 - acc: 0.5020\n",
            "Epoch 5/20\n",
            "1000/1000 [==============================] - 0s 19us/step - loss: 0.6988 - acc: 0.5150\n",
            "Epoch 6/20\n",
            "1000/1000 [==============================] - 0s 20us/step - loss: 0.7038 - acc: 0.4840\n",
            "Epoch 7/20\n",
            "1000/1000 [==============================] - 0s 21us/step - loss: 0.6986 - acc: 0.5140\n",
            "Epoch 8/20\n",
            "1000/1000 [==============================] - 0s 18us/step - loss: 0.7008 - acc: 0.4900\n",
            "Epoch 9/20\n",
            "1000/1000 [==============================] - 0s 18us/step - loss: 0.6956 - acc: 0.5120\n",
            "Epoch 10/20\n",
            "1000/1000 [==============================] - 0s 20us/step - loss: 0.6955 - acc: 0.5170\n",
            "Epoch 11/20\n",
            "1000/1000 [==============================] - 0s 22us/step - loss: 0.6953 - acc: 0.5140\n",
            "Epoch 12/20\n",
            "1000/1000 [==============================] - 0s 21us/step - loss: 0.6982 - acc: 0.5000\n",
            "Epoch 13/20\n",
            "1000/1000 [==============================] - 0s 21us/step - loss: 0.6948 - acc: 0.5040\n",
            "Epoch 14/20\n",
            "1000/1000 [==============================] - 0s 20us/step - loss: 0.6915 - acc: 0.5320\n",
            "Epoch 15/20\n",
            "1000/1000 [==============================] - 0s 24us/step - loss: 0.6938 - acc: 0.5080\n",
            "Epoch 16/20\n",
            "1000/1000 [==============================] - 0s 27us/step - loss: 0.6948 - acc: 0.4940\n",
            "Epoch 17/20\n",
            "1000/1000 [==============================] - 0s 23us/step - loss: 0.6931 - acc: 0.5410\n",
            "Epoch 18/20\n",
            "1000/1000 [==============================] - 0s 20us/step - loss: 0.6879 - acc: 0.5230\n",
            "Epoch 19/20\n",
            "1000/1000 [==============================] - 0s 20us/step - loss: 0.6904 - acc: 0.5190\n",
            "Epoch 20/20\n",
            "1000/1000 [==============================] - 0s 22us/step - loss: 0.6879 - acc: 0.5360\n",
            "100/100 [==============================] - 0s 584us/step\n"
          ],
          "name": "stdout"
        }
      ]
    },
    {
      "metadata": {
        "id": "D-io4QrFH8Aq",
        "colab_type": "code",
        "colab": {
          "base_uri": "https://localhost:8080/",
          "height": 894
        },
        "outputId": "11670f37-b3d7-4d55-8b74-40292ab78f24"
      },
      "cell_type": "code",
      "source": [
        "import keras\n",
        "from keras.models import Sequential\n",
        "from keras.layers import Dense, Dropout, Activation\n",
        "from keras.optimizers import SGD\n",
        "\n",
        "# Generate dummy data\n",
        "import numpy as np\n",
        "x_train = np.random.random((1000, 20))\n",
        "y_train = keras.utils.to_categorical(np.random.randint(10, size=(1000, 1)), num_classes=10)\n",
        "x_test = np.random.random((100, 20))\n",
        "y_test = keras.utils.to_categorical(np.random.randint(10, size=(100, 1)), num_classes=10)\n",
        "\n",
        "model = Sequential()\n",
        "# Dense(64) is a fully-connected layer with 64 hidden units.\n",
        "# in the first layer, you must specify the expected input data shape:\n",
        "# here, 20-dimensional vectors.\n",
        "model.add(Dense(64, activation='relu', input_dim=20))\n",
        "model.add(Dropout(0.5))\n",
        "model.add(Dense(64, activation='relu'))\n",
        "model.add(Dropout(0.5))\n",
        "model.add(Dense(10, activation='softmax'))\n",
        "\n",
        "sgd = SGD(lr=0.01, decay=1e-6, momentum=0.9, nesterov=True)\n",
        "model.compile(loss='categorical_crossentropy',\n",
        "              optimizer=sgd,\n",
        "              metrics=['accuracy'])\n",
        "\n",
        "model.fit(x_train, y_train,\n",
        "          epochs=20,\n",
        "          batch_size=128)\n",
        "score = model.evaluate(x_test, y_test, batch_size=128)"
      ],
      "execution_count": 1,
      "outputs": [
        {
          "output_type": "stream",
          "text": [
            "Using TensorFlow backend.\n"
          ],
          "name": "stderr"
        },
        {
          "output_type": "stream",
          "text": [
            "WARNING:tensorflow:From /usr/local/lib/python3.6/dist-packages/tensorflow/python/framework/op_def_library.py:263: colocate_with (from tensorflow.python.framework.ops) is deprecated and will be removed in a future version.\n",
            "Instructions for updating:\n",
            "Colocations handled automatically by placer.\n",
            "WARNING:tensorflow:From /usr/local/lib/python3.6/dist-packages/keras/backend/tensorflow_backend.py:3445: calling dropout (from tensorflow.python.ops.nn_ops) with keep_prob is deprecated and will be removed in a future version.\n",
            "Instructions for updating:\n",
            "Please use `rate` instead of `keep_prob`. Rate should be set to `rate = 1 - keep_prob`.\n",
            "WARNING:tensorflow:From /usr/local/lib/python3.6/dist-packages/tensorflow/python/ops/math_ops.py:3066: to_int32 (from tensorflow.python.ops.math_ops) is deprecated and will be removed in a future version.\n",
            "Instructions for updating:\n",
            "Use tf.cast instead.\n",
            "Epoch 1/20\n",
            "1000/1000 [==============================] - 1s 670us/step - loss: 2.3994 - acc: 0.0960\n",
            "Epoch 2/20\n",
            "1000/1000 [==============================] - 0s 21us/step - loss: 2.3522 - acc: 0.1260\n",
            "Epoch 3/20\n",
            "1000/1000 [==============================] - 0s 19us/step - loss: 2.3292 - acc: 0.0950\n",
            "Epoch 4/20\n",
            "1000/1000 [==============================] - 0s 22us/step - loss: 2.3117 - acc: 0.1040\n",
            "Epoch 5/20\n",
            "1000/1000 [==============================] - 0s 21us/step - loss: 2.3234 - acc: 0.0910\n",
            "Epoch 6/20\n",
            "1000/1000 [==============================] - 0s 24us/step - loss: 2.3216 - acc: 0.1000\n",
            "Epoch 7/20\n",
            "1000/1000 [==============================] - 0s 21us/step - loss: 2.3111 - acc: 0.1020\n",
            "Epoch 8/20\n",
            "1000/1000 [==============================] - 0s 22us/step - loss: 2.3016 - acc: 0.1270\n",
            "Epoch 9/20\n",
            "1000/1000 [==============================] - 0s 21us/step - loss: 2.2976 - acc: 0.1200\n",
            "Epoch 10/20\n",
            "1000/1000 [==============================] - 0s 19us/step - loss: 2.2966 - acc: 0.1130\n",
            "Epoch 11/20\n",
            "1000/1000 [==============================] - 0s 19us/step - loss: 2.3050 - acc: 0.1030\n",
            "Epoch 12/20\n",
            "1000/1000 [==============================] - 0s 20us/step - loss: 2.2998 - acc: 0.1240\n",
            "Epoch 13/20\n",
            "1000/1000 [==============================] - 0s 18us/step - loss: 2.3103 - acc: 0.1100\n",
            "Epoch 14/20\n",
            "1000/1000 [==============================] - 0s 22us/step - loss: 2.2939 - acc: 0.1240\n",
            "Epoch 15/20\n",
            "1000/1000 [==============================] - 0s 25us/step - loss: 2.2982 - acc: 0.1160\n",
            "Epoch 16/20\n",
            "1000/1000 [==============================] - 0s 20us/step - loss: 2.2939 - acc: 0.1230\n",
            "Epoch 17/20\n",
            "1000/1000 [==============================] - 0s 21us/step - loss: 2.2978 - acc: 0.1240\n",
            "Epoch 18/20\n",
            "1000/1000 [==============================] - 0s 21us/step - loss: 2.2982 - acc: 0.1180\n",
            "Epoch 19/20\n",
            "1000/1000 [==============================] - 0s 23us/step - loss: 2.2905 - acc: 0.1270\n",
            "Epoch 20/20\n",
            "1000/1000 [==============================] - 0s 20us/step - loss: 2.2966 - acc: 0.1320\n",
            "100/100 [==============================] - 0s 382us/step\n"
          ],
          "name": "stdout"
        }
      ]
    }
  ]
}