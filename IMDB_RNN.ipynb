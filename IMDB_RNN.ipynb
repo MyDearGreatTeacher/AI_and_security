{
  "nbformat": 4,
  "nbformat_minor": 0,
  "metadata": {
    "colab": {
      "name": "IMDB_RNN.ipynb",
      "version": "0.3.2",
      "provenance": [],
      "include_colab_link": true
    },
    "kernelspec": {
      "name": "python3",
      "display_name": "Python 3"
    }
  },
  "cells": [
    {
      "cell_type": "markdown",
      "metadata": {
        "id": "view-in-github",
        "colab_type": "text"
      },
      "source": [
        "<a href=\"https://colab.research.google.com/github/MyDearGreatTeacher/AI_and_security/blob/master/IMDB_RNN.ipynb\" target=\"_parent\"><img src=\"https://colab.research.google.com/assets/colab-badge.svg\" alt=\"Open In Colab\"/></a>"
      ]
    },
    {
      "metadata": {
        "id": "3g3PcO99sTjm",
        "colab_type": "text"
      },
      "cell_type": "markdown",
      "source": [
        "IMDB RNN"
      ]
    },
    {
      "metadata": {
        "id": "4BSpElqjtVV2",
        "colab_type": "text"
      },
      "cell_type": "markdown",
      "source": [
        "資料預處理 Data Pre-processing"
      ]
    },
    {
      "metadata": {
        "id": "w1kNM1fQsVcn",
        "colab_type": "code",
        "colab": {
          "base_uri": "https://localhost:8080/",
          "height": 67
        },
        "outputId": "143c0e68-182f-401c-b845-e07a48ef5545"
      },
      "cell_type": "code",
      "source": [
        "\n",
        "# coding: utf-8\n",
        "\n",
        "# # 1. Import Library\n",
        "\n",
        "# # 資料準備\n",
        "\n",
        "\n",
        "from keras.datasets import imdb\n",
        "from keras.preprocessing import sequence\n",
        "from keras.preprocessing.text import Tokenizer\n",
        "\n",
        "\n",
        "import re\n",
        "re_tag = re.compile(r'<[^>]+>')\n",
        "\n",
        "def rm_tags(text):\n",
        "    return re_tag.sub('', text)\n",
        "\n",
        "\n",
        "import os\n",
        "def read_files(filetype):\n",
        "    path = \"aclImdb/\"\n",
        "    file_list=[]\n",
        "\n",
        "    positive_path=path + filetype+\"/pos/\"\n",
        "    for f in os.listdir(positive_path):\n",
        "        file_list+=[positive_path+f]\n",
        "    \n",
        "    negative_path=path + filetype+\"/neg/\"\n",
        "    for f in os.listdir(negative_path):\n",
        "        file_list+=[negative_path+f]\n",
        "        \n",
        "    print('read',filetype, 'files:',len(file_list))\n",
        "       \n",
        "    all_labels = ([1] * 12500 + [0] * 12500) \n",
        "    \n",
        "    all_texts  = []\n",
        "    \n",
        "    for fi in file_list:\n",
        "        with open(fi,encoding='utf8') as file_input:\n",
        "            all_texts += [rm_tags(\" \".join(file_input.readlines()))]\n",
        "            \n",
        "    return all_labels,all_texts\n",
        "\n",
        "\n",
        "# \n",
        "\n",
        "y_train,train_text=read_files(\"train\")\n",
        "y_test,test_text=read_files(\"test\")\n",
        "\n",
        "\n",
        "# \n",
        "\n",
        "token = Tokenizer(num_words=3800)\n",
        "token.fit_on_texts(train_text)\n",
        "\n",
        "\n",
        "# \n",
        "\n",
        "x_train_seq = token.texts_to_sequences(train_text)\n",
        "x_test_seq  = token.texts_to_sequences(test_text)\n",
        "\n",
        "\n",
        "\n",
        "\n",
        "x_train = sequence.pad_sequences(x_train_seq, maxlen=380)\n",
        "x_test  = sequence.pad_sequences(x_test_seq,  maxlen=380)\n",
        "\n"
      ],
      "execution_count": 1,
      "outputs": [
        {
          "output_type": "stream",
          "text": [
            "Using TensorFlow backend.\n"
          ],
          "name": "stderr"
        },
        {
          "output_type": "stream",
          "text": [
            "read train files: 25000\n",
            "read test files: 25000\n"
          ],
          "name": "stdout"
        }
      ]
    },
    {
      "metadata": {
        "id": "KWsA_2pLtECF",
        "colab_type": "text"
      },
      "cell_type": "markdown",
      "source": [
        "建立模型"
      ]
    },
    {
      "metadata": {
        "id": "MIYi7EJLtEfz",
        "colab_type": "code",
        "colab": {
          "base_uri": "https://localhost:8080/",
          "height": 457
        },
        "outputId": "eb8eac1d-f2d1-49ee-a401-d2b8e623399d"
      },
      "cell_type": "code",
      "source": [
        "# # 建立模型\n",
        "\n",
        "# In[9]:\n",
        "\n",
        "from keras.models import Sequential\n",
        "from keras.layers.core import Dense, Dropout, Activation\n",
        "from keras.layers.embeddings import Embedding\n",
        "from keras.layers.recurrent import SimpleRNN\n",
        "\n",
        "\n",
        "model = Sequential()\n",
        "\n",
        "\n",
        "model.add(Embedding(output_dim=32,\n",
        "                    input_dim=3800, \n",
        "                    input_length=380))\n",
        "model.add(Dropout(0.35))\n",
        "\n",
        "\n",
        "model.add(SimpleRNN(units=16))\n",
        "\n",
        "\n",
        "model.add(Dense(units=256,activation='relu' ))\n",
        "model.add(Dropout(0.35))\n",
        "\n",
        "model.add(Dense(units=1,activation='sigmoid' ))\n",
        "\n",
        "\n",
        "model.summary()"
      ],
      "execution_count": 3,
      "outputs": [
        {
          "output_type": "stream",
          "text": [
            "WARNING:tensorflow:From /usr/local/lib/python3.6/dist-packages/tensorflow/python/framework/op_def_library.py:263: colocate_with (from tensorflow.python.framework.ops) is deprecated and will be removed in a future version.\n",
            "Instructions for updating:\n",
            "Colocations handled automatically by placer.\n",
            "WARNING:tensorflow:From /usr/local/lib/python3.6/dist-packages/keras/backend/tensorflow_backend.py:3445: calling dropout (from tensorflow.python.ops.nn_ops) with keep_prob is deprecated and will be removed in a future version.\n",
            "Instructions for updating:\n",
            "Please use `rate` instead of `keep_prob`. Rate should be set to `rate = 1 - keep_prob`.\n",
            "_________________________________________________________________\n",
            "Layer (type)                 Output Shape              Param #   \n",
            "=================================================================\n",
            "embedding_1 (Embedding)      (None, 380, 32)           121600    \n",
            "_________________________________________________________________\n",
            "dropout_1 (Dropout)          (None, 380, 32)           0         \n",
            "_________________________________________________________________\n",
            "simple_rnn_1 (SimpleRNN)     (None, 16)                784       \n",
            "_________________________________________________________________\n",
            "dense_1 (Dense)              (None, 256)               4352      \n",
            "_________________________________________________________________\n",
            "dropout_2 (Dropout)          (None, 256)               0         \n",
            "_________________________________________________________________\n",
            "dense_2 (Dense)              (None, 1)                 257       \n",
            "=================================================================\n",
            "Total params: 126,993\n",
            "Trainable params: 126,993\n",
            "Non-trainable params: 0\n",
            "_________________________________________________________________\n"
          ],
          "name": "stdout"
        }
      ]
    },
    {
      "metadata": {
        "id": "f9FVNbIvs7TZ",
        "colab_type": "text"
      },
      "cell_type": "markdown",
      "source": [
        "訓練模型"
      ]
    },
    {
      "metadata": {
        "id": "KRvFT0ScsyUR",
        "colab_type": "code",
        "colab": {
          "base_uri": "https://localhost:8080/",
          "height": 1158
        },
        "outputId": "ad04fbf6-479c-46c0-b421-768083c3b7e8"
      },
      "cell_type": "code",
      "source": [
        "# # 訓練模型\n",
        "\n",
        "\n",
        "model.compile(loss='binary_crossentropy', \n",
        "              optimizer='adam', \n",
        "              metrics=['accuracy'])\n",
        "\n",
        "\n",
        "train_history =model.fit(x_train, y_train,batch_size=100, \n",
        "                         epochs=10,verbose=2,\n",
        "                         validation_split=0.2)\n",
        "\n",
        "import matplotlib.pyplot as plt\n",
        "def show_train_history(train_history,train,validation):\n",
        "    plt.plot(train_history.history[train])\n",
        "    plt.plot(train_history.history[validation])\n",
        "    plt.title('Train History')\n",
        "    plt.ylabel(train)\n",
        "    plt.xlabel('Epoch')\n",
        "    plt.legend(['train', 'validation'], loc='upper left')\n",
        "    plt.show()\n",
        "\n",
        "\n",
        "show_train_history(train_history,'acc','val_acc')\n",
        "\n",
        "show_train_history(train_history,'loss','val_loss')"
      ],
      "execution_count": 4,
      "outputs": [
        {
          "output_type": "stream",
          "text": [
            "WARNING:tensorflow:From /usr/local/lib/python3.6/dist-packages/tensorflow/python/ops/math_ops.py:3066: to_int32 (from tensorflow.python.ops.math_ops) is deprecated and will be removed in a future version.\n",
            "Instructions for updating:\n",
            "Use tf.cast instead.\n",
            "Train on 20000 samples, validate on 5000 samples\n",
            "Epoch 1/10\n",
            " - 17s - loss: 0.6524 - acc: 0.6298 - val_loss: 0.6189 - val_acc: 0.7492\n",
            "Epoch 2/10\n",
            " - 16s - loss: 0.3987 - acc: 0.8234 - val_loss: 0.4150 - val_acc: 0.8342\n",
            "Epoch 3/10\n",
            " - 16s - loss: 0.3004 - acc: 0.8808 - val_loss: 0.4568 - val_acc: 0.8102\n",
            "Epoch 4/10\n",
            " - 16s - loss: 0.2432 - acc: 0.9038 - val_loss: 0.5070 - val_acc: 0.8036\n",
            "Epoch 5/10\n",
            " - 16s - loss: 0.2062 - acc: 0.9227 - val_loss: 0.5094 - val_acc: 0.7940\n",
            "Epoch 6/10\n",
            " - 16s - loss: 0.1681 - acc: 0.9360 - val_loss: 0.6112 - val_acc: 0.8038\n",
            "Epoch 7/10\n",
            " - 16s - loss: 0.1351 - acc: 0.9521 - val_loss: 0.7660 - val_acc: 0.7614\n",
            "Epoch 8/10\n",
            " - 16s - loss: 0.1056 - acc: 0.9623 - val_loss: 0.8352 - val_acc: 0.7950\n",
            "Epoch 9/10\n",
            " - 16s - loss: 0.0924 - acc: 0.9661 - val_loss: 0.8313 - val_acc: 0.7796\n",
            "Epoch 10/10\n",
            " - 16s - loss: 0.0769 - acc: 0.9727 - val_loss: 1.2046 - val_acc: 0.7336\n"
          ],
          "name": "stdout"
        },
        {
          "output_type": "display_data",
          "data": {
            "image/png": "[encoded data removed]",
            "text/plain": [
              "<Figure size 576x396 with 1 Axes>"
            ]
          },
          "metadata": {
            "tags": []
          }
        },
        {
          "output_type": "display_data",
          "data": {
            "image/png": "[encoded data removed]",
            "text/plain": [
              "<Figure size 576x396 with 1 Axes>"
            ]
          },
          "metadata": {
            "tags": []
          }
        }
      ]
    },
    {
      "metadata": {
        "id": "ZHTsLGd_syBq",
        "colab_type": "text"
      },
      "cell_type": "markdown",
      "source": [
        "評估模型準確率"
      ]
    },
    {
      "metadata": {
        "id": "_DLr1hMtszG-",
        "colab_type": "code",
        "colab": {
          "base_uri": "https://localhost:8080/",
          "height": 322
        },
        "outputId": "f5bab823-4d93-490d-cf0e-df8fd6f84e7f"
      },
      "cell_type": "code",
      "source": [
        "# # 評估模型準確率\n",
        "\n",
        "\n",
        "scores = model.evaluate(x_test, y_test, verbose=1)\n",
        "scores[1]\n",
        "\n",
        "\n",
        "# # 預測機率\n",
        "\n",
        "\n",
        "\n",
        "probility=model.predict(x_test)\n",
        "\n",
        "\n",
        "\n",
        "\n",
        "probility[:10]\n",
        "\n",
        "\n",
        "\n",
        "\n",
        "for p in probility[12500:12510]:\n",
        "    print(p)\n",
        "\n",
        "\n",
        "## 預測結果\n",
        "\n",
        "\n",
        "predict=model.predict_classes(x_test)\n",
        "\n",
        "\n",
        "\n",
        "predict[:10]\n",
        "predict.shape\n",
        "\n",
        "\n",
        "\n",
        "predict_classes=predict.reshape(25000)\n",
        "predict_classes\n",
        "\n",
        "\n",
        "# # 查看預測結果\n",
        "\n",
        "# In[29]:\n",
        "\n",
        "SentimentDict={1:'正面的',0:'負面的'}\n",
        "def display_test_Sentiment(i):\n",
        "    print(test_text[i])\n",
        "    print('label真實值:',SentimentDict[y_test[i]],\n",
        "          '預測結果:',SentimentDict[predict_classes[i]])\n",
        "\n",
        "\n",
        "display_test_Sentiment(2)\n",
        "\n",
        "display_test_Sentiment(3)\n",
        "\n",
        "predict_classes[12500:12510]\n",
        "\n",
        "display_test_Sentiment(12502)"
      ],
      "execution_count": 5,
      "outputs": [
        {
          "output_type": "stream",
          "text": [
            "25000/25000 [==============================] - 12s 461us/step\n",
            "[0.98621744]\n",
            "[0.99881625]\n",
            "[0.0091469]\n",
            "[3.501773e-05]\n",
            "[0.03443879]\n",
            "[0.00012562]\n",
            "[0.99482]\n",
            "[0.01750886]\n",
            "[0.99614966]\n",
            "[0.00060621]\n",
            "Watching this on Comcast On-Demand.Every time I see this musical, I am amazed at the songs...one show-stopper after another.This interpretation is, for me, magical. The songs sparkle...the vocals, orchestrations, and choreography are amazing for a \"made-for-TV\" movie...better than many stage versions I have seen.The debate over Bette just doesn't make sense. She is Mamma. Her voice is brilliant and yet full of the pathos of the stage mother living through her daughters. I still get tears at the end when she finally has her moment of glory, no matter how faded that glory is.The Tulsa/Louise duet/dance is on now. Fabulous.Stephen Sondheim is the King of musical theatre. His lyrics just roll off the tongue like silk...Styne's music is perhaps the best ever penned for the stage/screen.Thank God we have this masterpiece of the American Musical Theatre captured on DVD.\n",
            "label真實值: 正面的 預測結果: 正面的\n",
            "I've seen this movie a few times and with each viewing I still feel the excitement of embarking on a journey and the frustration of trying to overcome the barriers that impede the path. It's more than a mere desire of finding home; it's about the very basic human spirit of finding one's way in the world, of overcoming despair, of facing the character foibles that deter our goals. Underlying these human endeavors is the challenge to reconsider the origin of life. While this film is imbued with serious ideas, it has just enough comedic lines to leave the viewers hopeful. It is surprisingly funny. The execution of the story line is excellent! This is all packaged with visually engaging animation. A must see.\n",
            "label真實值: 正面的 預測結果: 正面的\n",
            "This movie was so awful, so boring, so badly miscast -- it took a lot of work to make what should have been a sure thing into such a travesty. I love Lucille Ball, but she absolutely stunk in this movie. Too old, couldn't sing, sounded like a truck dumping gravel even when NOT singing -- and the biggest sin of all -- SHE WASN'T FUNNY. EVEN A LITTLE. The studio shot themselves in the foot with this one, and for ruining what should have been a fabulous screen version of a fabulous stage musical, some other body parts deserve to have been wounded as well -- or perhaps they were already lacking those parts. That might explain it. But for Lucy to think she was right for a part that required SINGING -- well, that's the saddest thing of all. It's a very good thing to know your limitations. Even a legend can't come out of a stinker like this and still smell like a rose.\n",
            "label真實值: 負面的 預測結果: 負面的\n"
          ],
          "name": "stdout"
        }
      ]
    },
    {
      "metadata": {
        "id": "EOBl_6LFscMl",
        "colab_type": "text"
      },
      "cell_type": "markdown",
      "source": [
        "預測新的影評"
      ]
    },
    {
      "metadata": {
        "id": "svET04jGsZjn",
        "colab_type": "code",
        "colab": {
          "base_uri": "https://localhost:8080/",
          "height": 154
        },
        "outputId": "a1c0830c-3251-4c87-a02f-359ef1e87b0f"
      },
      "cell_type": "code",
      "source": [
        "#預測新的影評\n",
        "\n",
        "\n",
        "# In[35]:\n",
        "\n",
        "input_text='''\n",
        "I can't vote because I have not watched this movie yet. I've been wanting to watch this movie since the time they announced making it which is about 2 years ago (!)\n",
        "I was planning to go with the family to see the anticipated movie but my nieces had school exams at the opening time so we all decided to wait for the next weekend. I was utterly shocked to learn yesterday that they pulled the movie from the Kuwaiti theaters \"temporarily\" so that the outrageous censorship system can remove some unwanted scenes.\n",
        "The controversial gay \"moment\" according to my online research is barely there, so I can't find any logical reason for all the fuss that's been going on. And it was bad enough when fanatics and haters tried (in vain) to kill the movie with low ratings and negative reviews even before it was in the cinemas and I'm pretty sure most of those trolls never got the chance to watch the movie at that time.\n",
        "Based on the trailers, I think the movie is very promising and entertaining and you can't simply overlook the tremendous efforts made to bring this beloved tale to life. To knock down hundreds of people's obvious hard work with unprofessional critique and negative reviews just for the sake of hatred is unfathomable. I hope people won't judge a movie before having the experience of watching it in the first place.\n",
        "Impatiently waiting for the Kuwaiti cinemas to bring back the movie... \n",
        "'''\n",
        "\n",
        "\n",
        "# In[36]:\n",
        "\n",
        "input_seq = token.texts_to_sequences([input_text])\n",
        "\n",
        "\n",
        "# In[37]:\n",
        "\n",
        "print(input_seq[0])\n",
        "\n",
        "\n",
        "# In[38]:\n",
        "\n",
        "len(input_seq[0] )\n",
        "\n",
        "\n",
        "# In[39]:\n",
        "\n",
        "pad_input_seq  = sequence.pad_sequences(input_seq , maxlen=380)\n",
        "\n",
        "\n",
        "# In[40]:\n",
        "\n",
        "len(pad_input_seq[0])\n",
        "\n",
        "\n",
        "# In[41]:\n",
        "\n",
        "predict_result=model.predict_classes(pad_input_seq)\n",
        "\n",
        "\n",
        "# In[42]:\n",
        "\n",
        "predict_result\n",
        "\n",
        "\n",
        "# In[43]:\n",
        "\n",
        "predict_result[0][0]\n",
        "\n",
        "\n",
        "# In[44]:\n",
        "\n",
        "SentimentDict[predict_result[0][0]]\n",
        "\n",
        "\n",
        "# In[45]:\n",
        "\n",
        "def predict_review(input_text):\n",
        "    input_seq = token.texts_to_sequences([input_text])\n",
        "    pad_input_seq  = sequence.pad_sequences(input_seq , maxlen=380)\n",
        "    predict_result=model.predict_classes(pad_input_seq)\n",
        "    print(SentimentDict[predict_result[0][0]])\n",
        "\n",
        "\n",
        "# In[46]:\n",
        "\n",
        "#http://www.imdb.com/title/tt2771200/\n",
        "#http://www.imdb.com/title/tt2771200\n",
        "\n",
        "\n",
        "# In[47]:\n",
        "\n",
        "predict_review('''\n",
        "As a fan of the original Disney film (Personally I feel it's their masterpiece) I was taken aback to the fact that a new version was in the making. Still excited I had high hopes for the film. Most of was shattered in the first 10 minutes. Campy acting with badly performed singing starts off a long journey holding hands with some of the worst CGI Hollywood have managed to but to screen in ages.\n",
        "A film that is over 50% GCI, should focus on making that part believable, unfortunately for this film, it's far from that. It looks like the original film was ripped apart frame by frame and the beautiful hand-painted drawings have been replaced with digital caricatures. Besides CGI that is bad, it's mostly creepy. As the little teacup boy will give me nightmares for several nights to come. Emma Watson plays the same character as she always does, with very little acting effort and very little conviction as Belle. Although I can see why she was cast in the film based on merits, she is far from the right choice for the role. Dan Stevens does alright under as some motion captured dead-eyed Beast, but his performance feels flat as well. Luke Evans makes for a great pompous Gaston, but a character that has little depth doesn't really make for a great viewing experience. Josh Gad is a great comic relief just like the original movie's LeFou. Other than that, none of the cast stands out enough for me to remember them. Human or CHI creature. I was just bored through out the whole experience. And for a project costing $160 000 000, I can see why the PR department is pushing it so hard because they really need to get some cash back on this pile of wet stinky CGI-fur!\n",
        "All and all, I might be bias from really loving Disney's first adaptation. That for me marks the high-point of all their work, perfectly combining the skills of their animators along with some CGI in a majestic blend. This film however is more like the bucket you wash off your paintbrush in, it has all the same colors, but muddled with water and to thin to make a captivating story from. The film is quite frankly not worth your time, you would be better off watching the original one more time. \n",
        "''')\n",
        "\n",
        "\n",
        "# In[48]:\n",
        "\n",
        "predict_review('''\n",
        "I was really looking forward to this film. Not only has Disney recently made excellent live-action versions of their animated masterpieces (Jungle Book, Cinderella), but the cast alone (Emma Watson, Ian McKellen, Kevin Kline) already seemed to make this one a sure hit. Well, not so much as it turns out.\n",
        "Some of the animation is fantastic, but because characters like Cogsworth (the clock), Lumière (the candelabra) and Chip (the little tea cup) now look \"realistic\", they lose a lot of their animated predecessors' charm and actually even look kind of creepy at times. And ironically - unlike in the animated original - in this new realistic version they only have very limited facial expressions (which is a creative decision I can't for the life of me understand).\n",
        "Even when it works: there can be too much of a good thing. The film is overstuffed with lush production design and cgi (which is often weirdly artificial looking though) but sadly lacking in charm and genuine emotion. If this were a music album, I'd say it is \"over-produced\" and in need of more soul and swing. The great voice talent in some cases actually seems wasted, because it drowns in a sea of visual effects that numbs all senses. The most crucial thing that didn't work for me, though, is the Beast. He just never looks convincing. The eyes somehow don't look like real eyes and they're always slightly off.\n",
        "On the positive side, I really liked Gaston, and the actor who played him, Luke Evans, actually gave the perhaps most energized performance of all. Kevin Kline as Belle's father has little to do but to look fatherly and old, but he makes the most of his part. Speaking of Belle, now that I've seen the film, I think her role was miscast. I think someone like Rachel McAdams would actually have been a more natural, lively and perhaps a bit more feisty Belle than Emma Watson.\n",
        "If you love the original, you might want to give this one a pass, it's really not that good (although at least the songs were OK). Also, I'd think twice before bringing small children; without cute animated faces, all those \"realistic\" looking creatures and devices can be rather frightening for a child. ''')\n",
        "\n",
        "\n",
        "# In[49]:\n",
        "\n",
        "predict_review('''\n",
        "The original Beauty and the Beast was my favorite cartoon as a kid but it did have major plot holes. Why had no one else ever seen the castle or knew where it was? Didn't anyone miss the people who were cursed? All of that gets an explanation when the enchantress places her curse in the beginning. Why did Belle and her Father move to a small town? Her mother died and the father thought it as best to leave. I love the new songs and added lyrics to the originals. I like the way the cgi beast looks (just the face is CGi). I think Emma Watson is a perfect Belle who is outspoken, fearless, and different. The set design is perfect for the era in France.\n",
        "I know a lot of people disagree but I found this remake with all its changes to be more enchanting, beautiful, and complete than the original 1991 movie. To each his own but I think everyone should see it for themselves. \n",
        "''')\n",
        "\n",
        "\n",
        "# In[50]:\n",
        "\n",
        "predict_review('''\n",
        "\"Beauty and the Beast\" was stunning and gorgeous. Beautifully and artfully performed. Dazzlingly colorful and charming. Fresh and lighthearted. Wonderfully and magically enthralling. I laughed, I cried, I floated along with the music, I bawled and bawled as the spellbinding elegance and splendor took me to another place and time. I was 5 years old again enjoying the Wonderful World of Magic that is Disney, as if for the first time. I will gladly spend my money over and over to see that magic unfold. I willingly and happily concede Emma Watson to be Belle, for this generation of children, instead of Hermione. She has earned her place as a Disney princess and I applaud everyone who had a part in this piece of magic. Truly, Disney knows how to make us all children again. \n",
        "''')\n",
        "\n",
        "\n",
        "# # serialize model to JSON\n",
        "\n",
        "# In[51]:\n",
        "\n",
        "model_json = model.to_json()\n",
        "with open(\"Imdb_RNN_model.json\", \"w\") as json_file:\n",
        "    json_file.write(model_json)\n",
        "\n",
        "model.save_weights(\"Imdb_RNN_model.h5\")\n",
        "print(\"Saved model to disk\")\n",
        "\n",
        "\n",
        "# In[52]:\n",
        "\n",
        "[1.02,2.03,-1.2,2,2],[1,2.1,3,2.2,3.4,3.6]"
      ],
      "execution_count": 7,
      "outputs": [
        {
          "output_type": "stream",
          "text": [
            "[9, 187, 2309, 83, 9, 24, 20, 292, 10, 16, 242, 203, 73, 1780, 5, 102, 10, 16, 233, 1, 54, 32, 227, 8, 59, 6, 40, 237, 149, 592, 9, 12, 3589, 5, 136, 15, 1, 219, 5, 63, 1, 16, 17, 57, 65, 391, 29, 1, 632, 54, 34, 71, 28, 867, 5, 853, 14, 1, 372, 2493, 9, 12, 1248, 2407, 5, 846, 11, 32, 1910, 1, 16, 35, 1, 2257, 34, 11, 1, 3585, 1502, 66, 45, 135, 1, 3108, 988, 557, 1789, 5, 57, 2294, 6, 1197, 46, 34, 9, 187, 165, 97, 3676, 279, 14, 28, 1, 194, 73, 166, 19, 2, 8, 12, 75, 191, 50, 2, 799, 7, 5, 512, 1, 16, 15, 360, 2900, 2, 1557, 854, 56, 154, 8, 12, 7, 1, 2, 142, 180, 248, 87, 4, 144, 111, 184, 1, 577, 5, 102, 1, 16, 29, 11, 54, 444, 19, 1, 9, 100, 1, 16, 6, 51, 2430, 2, 438, 2, 21, 187, 327, 1, 3521, 2047, 89, 5, 717, 10, 2754, 780, 5, 109, 5, 3291, 176, 3097, 4, 2853, 573, 250, 153, 15, 2, 1557, 854, 39, 14, 1, 2109, 4, 3664, 6, 9, 436, 80, 524, 1921, 3, 16, 154, 256, 1, 580, 4, 145, 8, 7, 1, 82, 269, 1061, 14, 1, 5, 717, 141, 1, 16]\n",
            "負面的\n",
            "正面的\n",
            "正面的\n",
            "正面的\n",
            "Saved model to disk\n"
          ],
          "name": "stdout"
        },
        {
          "output_type": "execute_result",
          "data": {
            "text/plain": [
              "([1.02, 2.03, -1.2, 2, 2], [1, 2.1, 3, 2.2, 3.4, 3.6])"
            ]
          },
          "metadata": {
            "tags": []
          },
          "execution_count": 7
        }
      ]
    }
  ]
}