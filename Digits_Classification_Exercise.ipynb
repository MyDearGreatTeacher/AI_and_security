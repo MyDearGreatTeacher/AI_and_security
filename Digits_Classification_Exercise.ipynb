{
  "nbformat": 4,
  "nbformat_minor": 0,
  "metadata": {
    "colab": {
      "name": "Digits Classification Exercise.ipynb",
      "version": "0.3.2",
      "provenance": [],
      "include_colab_link": true
    },
    "kernelspec": {
      "name": "python3",
      "display_name": "Python 3"
    }
  },
  "cells": [
    {
      "cell_type": "markdown",
      "metadata": {
        "id": "view-in-github",
        "colab_type": "text"
      },
      "source": [
        "<a href=\"https://colab.research.google.com/github/MyDearGreatTeacher/AI_and_security/blob/master/Digits_Classification_Exercise.ipynb\" target=\"_parent\"><img src=\"https://colab.research.google.com/assets/colab-badge.svg\" alt=\"Open In Colab\"/></a>"
      ]
    },
    {
      "metadata": {
        "id": "9excl3Pgt4uu",
        "colab_type": "code",
        "colab": {
          "base_uri": "https://localhost:8080/",
          "height": 67
        },
        "outputId": "b7d0d26a-f879-4d9f-be3f-f8eb0d9c02d6"
      },
      "cell_type": "code",
      "source": [
        "print(__doc__)\n",
        "\n",
        "from sklearn import datasets, neighbors, linear_model\n",
        "\n",
        "digits = datasets.load_digits()\n",
        "X_digits = digits.data / digits.data.max()\n",
        "y_digits = digits.target\n",
        "\n",
        "n_samples = len(X_digits)\n",
        "\n",
        "X_train = X_digits[:int(.9 * n_samples)]\n",
        "y_train = y_digits[:int(.9 * n_samples)]\n",
        "X_test = X_digits[int(.9 * n_samples):]\n",
        "y_test = y_digits[int(.9 * n_samples):]\n",
        "\n",
        "knn = neighbors.KNeighborsClassifier()\n",
        "logistic = linear_model.LogisticRegression(solver='lbfgs', max_iter=1000,\n",
        "                                           multi_class='multinomial')\n",
        "\n",
        "print('KNN score: %f' % knn.fit(X_train, y_train).score(X_test, y_test))\n",
        "print('LogisticRegression score: %f'\n",
        "      % logistic.fit(X_train, y_train).score(X_test, y_test))"
      ],
      "execution_count": 1,
      "outputs": [
        {
          "output_type": "stream",
          "text": [
            "Automatically created module for IPython interactive environment\n",
            "KNN score: 0.961111\n",
            "LogisticRegression score: 0.933333\n"
          ],
          "name": "stdout"
        }
      ]
    }
  ]
}