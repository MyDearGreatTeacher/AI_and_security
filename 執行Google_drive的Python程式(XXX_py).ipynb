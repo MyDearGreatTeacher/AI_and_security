{
  "nbformat": 4,
  "nbformat_minor": 0,
  "metadata": {
    "colab": {
      "name": "執行Google drive的Python程式(XXX.py).ipynb",
      "version": "0.3.2",
      "provenance": [],
      "include_colab_link": true
    },
    "kernelspec": {
      "name": "python3",
      "display_name": "Python 3"
    }
  },
  "cells": [
    {
      "cell_type": "markdown",
      "metadata": {
        "id": "view-in-github",
        "colab_type": "text"
      },
      "source": [
        "<a href=\"https://colab.research.google.com/github/MyDearGreatTeacher/AI_and_security/blob/master/%E5%9F%B7%E8%A1%8CGoogle_drive%E7%9A%84Python%E7%A8%8B%E5%BC%8F(XXX_py).ipynb\" target=\"_parent\"><img src=\"https://colab.research.google.com/assets/colab-badge.svg\" alt=\"Open In Colab\"/></a>"
      ]
    },
    {
      "metadata": {
        "id": "w457mdl4cOhq",
        "colab_type": "code",
        "colab": {}
      },
      "cell_type": "code",
      "source": [
        ""
      ],
      "execution_count": 0,
      "outputs": []
    },
    {
      "metadata": {
        "id": "iM3TQm7_cPNG",
        "colab_type": "text"
      },
      "cell_type": "markdown",
      "source": [
        "# 執行Google drive的Python程式(XXX.py)#\n",
        "\n",
        "先設定權限\n",
        "\n",
        "註1:先在你的google drive建立目錄(本範例是建在PythonCode目錄)\n",
        "\n",
        "註2:上傳你的pythont程式到此目錄(本範例是使用分享的程式mnist_cnn.py:你可以改成你的程式)\n",
        "\n",
        "下載網址:https://github.com/keras-team/keras/blob/master/examples/mnist_cnn.py"
      ]
    },
    {
      "metadata": {
        "id": "GSHeW-zFcTWh",
        "colab_type": "code",
        "colab": {
          "base_uri": "https://localhost:8080/",
          "height": 128
        },
        "outputId": "2b44a0ed-bc86-496d-d1e4-62e59fbf5286"
      },
      "cell_type": "code",
      "source": [
        "from google.colab import drive\n",
        "drive.mount('/content/drive/')\n"
      ],
      "execution_count": 1,
      "outputs": [
        {
          "output_type": "stream",
          "text": [
            "Go to this URL in a browser: https://accounts.google.com/o/oauth2/auth?client_id=947318989803-6bn6qk8qdgf4n4g3pfee6491hc0brc4i.apps.googleusercontent.com&redirect_uri=urn%3Aietf%3Awg%3Aoauth%3A2.0%3Aoob&scope=email%20https%3A%2F%2Fwww.googleapis.com%2Fauth%2Fdocs.test%20https%3A%2F%2Fwww.googleapis.com%2Fauth%2Fdrive%20https%3A%2F%2Fwww.googleapis.com%2Fauth%2Fdrive.photos.readonly%20https%3A%2F%2Fwww.googleapis.com%2Fauth%2Fpeopleapi.readonly&response_type=code\n",
            "\n",
            "Enter your authorization code:\n",
            "··········\n",
            "Mounted at /content/drive/\n"
          ],
          "name": "stdout"
        }
      ]
    },
    {
      "metadata": {
        "id": "Nd5HRlxBiXsI",
        "colab_type": "text"
      },
      "cell_type": "markdown",
      "source": [
        "##檢視你Google Drive上的資料##"
      ]
    },
    {
      "metadata": {
        "id": "VJ2ly-tUcu6h",
        "colab_type": "code",
        "colab": {
          "base_uri": "https://localhost:8080/",
          "height": 35
        },
        "outputId": "c8fb0ab9-cc1e-4336-f119-d104b9ef31b1"
      },
      "cell_type": "code",
      "source": [
        "!ls"
      ],
      "execution_count": 2,
      "outputs": [
        {
          "output_type": "stream",
          "text": [
            "drive  sample_data\n"
          ],
          "name": "stdout"
        }
      ]
    },
    {
      "metadata": {
        "id": "LLIMh5LFc9h2",
        "colab_type": "code",
        "colab": {
          "base_uri": "https://localhost:8080/",
          "height": 35
        },
        "outputId": "0c4307c3-2656-4151-ab70-457b08b25c5e"
      },
      "cell_type": "code",
      "source": [
        "!ls \"/content/drive/My Drive/PythonCode\"\n",
        "\n",
        "\n"
      ],
      "execution_count": 6,
      "outputs": [
        {
          "output_type": "stream",
          "text": [
            "mnist_cnn.py\n"
          ],
          "name": "stdout"
        }
      ]
    },
    {
      "metadata": {
        "id": "Pe4Ygiyiigvx",
        "colab_type": "text"
      },
      "cell_type": "markdown",
      "source": [
        "## 執行你Google Drive上的Python程式"
      ]
    },
    {
      "metadata": {
        "id": "Bnb0-WssfKc3",
        "colab_type": "code",
        "colab": {
          "base_uri": "https://localhost:8080/",
          "height": 819
        },
        "outputId": "254babdc-dae9-4b15-a870-27301340dc49"
      },
      "cell_type": "code",
      "source": [
        "!python3  \"/content/drive/My Drive/PythonCode/mnist_cnn.py\""
      ],
      "execution_count": 11,
      "outputs": [
        {
          "output_type": "stream",
          "text": [
            "Using TensorFlow backend.\n",
            "x_train shape: (60000, 28, 28, 1)\n",
            "60000 train samples\n",
            "10000 test samples\n",
            "WARNING:tensorflow:From /usr/local/lib/python3.6/dist-packages/tensorflow/python/framework/op_def_library.py:263: colocate_with (from tensorflow.python.framework.ops) is deprecated and will be removed in a future version.\n",
            "Instructions for updating:\n",
            "Colocations handled automatically by placer.\n",
            "WARNING:tensorflow:From /usr/local/lib/python3.6/dist-packages/keras/backend/tensorflow_backend.py:3445: calling dropout (from tensorflow.python.ops.nn_ops) with keep_prob is deprecated and will be removed in a future version.\n",
            "Instructions for updating:\n",
            "Please use `rate` instead of `keep_prob`. Rate should be set to `rate = 1 - keep_prob`.\n",
            "WARNING:tensorflow:From /usr/local/lib/python3.6/dist-packages/tensorflow/python/ops/math_ops.py:3066: to_int32 (from tensorflow.python.ops.math_ops) is deprecated and will be removed in a future version.\n",
            "Instructions for updating:\n",
            "Use tf.cast instead.\n",
            "Train on 60000 samples, validate on 10000 samples\n",
            "Epoch 1/12\n",
            "2019-04-10 09:13:40.575821: I tensorflow/core/platform/profile_utils/cpu_utils.cc:94] CPU Frequency: 2300000000 Hz\n",
            "2019-04-10 09:13:40.576083: I tensorflow/compiler/xla/service/service.cc:150] XLA service 0x161e840 executing computations on platform Host. Devices:\n",
            "2019-04-10 09:13:40.576117: I tensorflow/compiler/xla/service/service.cc:158]   StreamExecutor device (0): <undefined>, <undefined>\n",
            "60000/60000 [==============================] - 166s 3ms/step - loss: 0.2684 - acc: 0.9174 - val_loss: 0.0592 - val_acc: 0.9812\n",
            "Epoch 2/12\n",
            "60000/60000 [==============================] - 164s 3ms/step - loss: 0.0899 - acc: 0.9733 - val_loss: 0.0411 - val_acc: 0.9863\n",
            "Epoch 3/12\n",
            "60000/60000 [==============================] - 164s 3ms/step - loss: 0.0685 - acc: 0.9792 - val_loss: 0.0361 - val_acc: 0.9887\n",
            "Epoch 4/12\n",
            "60000/60000 [==============================] - 165s 3ms/step - loss: 0.0545 - acc: 0.9833 - val_loss: 0.0301 - val_acc: 0.9894\n",
            "Epoch 5/12\n",
            "60000/60000 [==============================] - 164s 3ms/step - loss: 0.0483 - acc: 0.9852 - val_loss: 0.0363 - val_acc: 0.9871\n",
            "Epoch 6/12\n",
            "60000/60000 [==============================] - 164s 3ms/step - loss: 0.0425 - acc: 0.9873 - val_loss: 0.0278 - val_acc: 0.9900\n",
            "Epoch 7/12\n",
            "60000/60000 [==============================] - 165s 3ms/step - loss: 0.0377 - acc: 0.9888 - val_loss: 0.0390 - val_acc: 0.9874\n",
            "Epoch 8/12\n",
            "60000/60000 [==============================] - 164s 3ms/step - loss: 0.0370 - acc: 0.9883 - val_loss: 0.0288 - val_acc: 0.9908\n",
            "Epoch 9/12\n",
            "60000/60000 [==============================] - 163s 3ms/step - loss: 0.0328 - acc: 0.9899 - val_loss: 0.0288 - val_acc: 0.9904\n",
            "Epoch 10/12\n",
            "60000/60000 [==============================] - 164s 3ms/step - loss: 0.0310 - acc: 0.9904 - val_loss: 0.0338 - val_acc: 0.9911\n",
            "Epoch 11/12\n",
            "60000/60000 [==============================] - 163s 3ms/step - loss: 0.0308 - acc: 0.9907 - val_loss: 0.0257 - val_acc: 0.9924\n",
            "Epoch 12/12\n",
            "60000/60000 [==============================] - 163s 3ms/step - loss: 0.0263 - acc: 0.9920 - val_loss: 0.0271 - val_acc: 0.9911\n",
            "Test loss: 0.0271347449728366\n",
            "Test accuracy: 0.9911\n"
          ],
          "name": "stdout"
        }
      ]
    }
  ]
}