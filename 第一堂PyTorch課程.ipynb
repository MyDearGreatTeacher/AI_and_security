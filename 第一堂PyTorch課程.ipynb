{
  "nbformat": 4,
  "nbformat_minor": 0,
  "metadata": {
    "colab": {
      "name": "第一堂PyTorch課程.ipynb",
      "version": "0.3.2",
      "provenance": [],
      "include_colab_link": true
    },
    "kernelspec": {
      "name": "python3",
      "display_name": "Python 3"
    }
  },
  "cells": [
    {
      "cell_type": "markdown",
      "metadata": {
        "id": "view-in-github",
        "colab_type": "text"
      },
      "source": [
        "<a href=\"https://colab.research.google.com/github/MyDearGreatTeacher/AI_and_security/blob/master/%E7%AC%AC%E4%B8%80%E5%A0%82PyTorch%E8%AA%B2%E7%A8%8B.ipynb\" target=\"_parent\"><img src=\"https://colab.research.google.com/assets/colab-badge.svg\" alt=\"Open In Colab\"/></a>"
      ]
    },
    {
      "metadata": {
        "id": "nFTfuNZz8TBW",
        "colab_type": "text"
      },
      "cell_type": "markdown",
      "source": [
        "** 第一堂PyTorch課程 **"
      ]
    },
    {
      "metadata": {
        "id": "uvSKx5q7921h",
        "colab_type": "text"
      },
      "cell_type": "markdown",
      "source": [
        "在Google Colab安裝PyTorch套件"
      ]
    },
    {
      "metadata": {
        "id": "cCwAL-vW-AVg",
        "colab_type": "code",
        "outputId": "9bbf97e1-ef17-4d13-b794-d545c78db824",
        "colab": {
          "base_uri": "https://localhost:8080/",
          "height": 134
        }
      },
      "cell_type": "code",
      "source": [
        "!pip3 install torchvision"
      ],
      "execution_count": 0,
      "outputs": [
        {
          "output_type": "stream",
          "text": [
            "Requirement already satisfied: torchvision in /usr/local/lib/python3.6/dist-packages (0.2.2.post3)\n",
            "Requirement already satisfied: pillow>=4.1.1 in /usr/local/lib/python3.6/dist-packages (from torchvision) (4.1.1)\n",
            "Requirement already satisfied: numpy in /usr/local/lib/python3.6/dist-packages (from torchvision) (1.14.6)\n",
            "Requirement already satisfied: six in /usr/local/lib/python3.6/dist-packages (from torchvision) (1.11.0)\n",
            "Requirement already satisfied: torch in /usr/local/lib/python3.6/dist-packages (from torchvision) (0.3.0.post4)\n",
            "Requirement already satisfied: olefile in /usr/local/lib/python3.6/dist-packages (from pillow>=4.1.1->torchvision) (0.46)\n",
            "Requirement already satisfied: pyyaml in /usr/local/lib/python3.6/dist-packages (from torch->torchvision) (3.13)\n"
          ],
          "name": "stdout"
        }
      ]
    },
    {
      "metadata": {
        "id": "56pxnOg1_E-x",
        "colab_type": "text"
      },
      "cell_type": "markdown",
      "source": [
        "線性回歸Linear Regression"
      ]
    },
    {
      "metadata": {
        "id": "Cn8awkaQ9_Fc",
        "colab_type": "code",
        "outputId": "67fcde64-5674-413a-a5c6-326e83fa5244",
        "colab": {
          "base_uri": "https://localhost:8080/",
          "height": 282
        }
      },
      "cell_type": "code",
      "source": [
        "import torch as t\n",
        "%matplotlib inline\n",
        "from matplotlib import pyplot as plt\n",
        "from IPython import display\n",
        "\n",
        "#device = t.device('cpu') #如果你想用gpu，改成t.device('cuda:0')\n",
        "\n",
        "# 設置亂數種子，保證在不同電腦上運行時下面的輸出一致\n",
        "t.manual_seed(1000) \n",
        "\n",
        "def get_fake_data(batch_size=8):\n",
        "    ''' 產生亂數據：y=x*2+3，加上了一些雜訊'''\n",
        "    x = t.rand(batch_size, 1) * 5\n",
        "    y = x * 2 + 3 +  t.randn(batch_size, 1)\n",
        "    #x = t.rand(batch_size, 1, device=device) * 5\n",
        "    #y = x * 2 + 3 +  t.randn(batch_size, 1, device=device)\n",
        "    return x, y\n",
        "\n",
        "# 來看看產生的x-y分佈\n",
        "x, y = get_fake_data(batch_size=16)\n",
        "plt.scatter(x.squeeze().cpu().numpy(), y.squeeze().cpu().numpy())\n"
      ],
      "execution_count": 0,
      "outputs": [
        {
          "output_type": "execute_result",
          "data": {
            "text/plain": [
              "<matplotlib.collections.PathCollection at 0x7f02436c7198>"
            ]
          },
          "metadata": {
            "tags": []
          },
          "execution_count": 4
        },
        {
          "output_type": "display_data",
          "data": {
            "image/png": "[encoded data removed]",
            "text/plain": [
              "<Figure size 432x288 with 1 Axes>"
            ]
          },
          "metadata": {
            "tags": []
          }
        }
      ]
    },
    {
      "metadata": {
        "id": "hOQ5p8Mc93Tp",
        "colab_type": "code",
        "outputId": "e87ca2db-cbaf-4532-c770-03ff455b1bec",
        "colab": {
          "base_uri": "https://localhost:8080/",
          "height": 382
        }
      },
      "cell_type": "code",
      "source": [
        "# 隨機初始化參數\n",
        "w = t.rand(1, 1)\n",
        "b = t.zeros(1, 1)\n",
        "#w = t.rand(1, 1).to(device)\n",
        "#b = t.zeros(1, 1).to(device)\n",
        "\n",
        "lr =0.02 # 學習率\n",
        "\n",
        "for ii in range(500):\n",
        "    x, y = get_fake_data(batch_size=4)\n",
        "    \n",
        "    # forward：計算loss\n",
        "    y_pred = x.mm(w) + b.expand_as(y) # x@W等價於x.mm(w);for python3 only\n",
        "    loss = 0.5 * (y_pred - y) ** 2 # 均方誤差\n",
        "    loss = loss.mean()\n",
        "    \n",
        "    # backward：手動計算梯度\n",
        "    dloss = 1\n",
        "    dy_pred = dloss * (y_pred - y)\n",
        "    \n",
        "    dw = x.t().mm(dy_pred)\n",
        "    db = dy_pred.sum()\n",
        "    \n",
        "    # 更新參數\n",
        "    w.sub_(lr * dw)\n",
        "    b.sub_(lr * db)\n",
        "    \n",
        "    if ii%50 ==0:\n",
        "       \n",
        "        # 畫圖\n",
        "        display.clear_output(wait=True)\n",
        "        x = t.arange(0, 6).view(-1, 1)\n",
        "        y = x.mm(w) + b.expand_as(x)\n",
        "        plt.plot(x.cpu().numpy(), y.cpu().numpy()) # predicted\n",
        "        \n",
        "        x2, y2 = get_fake_data(batch_size=32) \n",
        "        plt.scatter(x2.numpy(), y2.numpy()) # true data\n",
        "        \n",
        "        plt.xlim(0, 5)\n",
        "        plt.ylim(0, 13)\n",
        "        plt.show()\n",
        "        plt.pause(0.5)\n",
        "        \n",
        "#print('w: ', w.item(), 'b: ', b.item())\n",
        "print('w: ', w, 'b: ', b)\n"
      ],
      "execution_count": 0,
      "outputs": [
        {
          "output_type": "display_data",
          "data": {
            "image/png": "[encoded data removed]",
            "text/plain": [
              "<Figure size 432x288 with 1 Axes>"
            ]
          },
          "metadata": {
            "tags": []
          }
        },
        {
          "output_type": "stream",
          "text": [
            "w:  \n",
            " 1.9537\n",
            "[torch.FloatTensor of size 1x1]\n",
            " b:  \n",
            " 3.0351\n",
            "[torch.FloatTensor of size 1x1]\n",
            "\n"
          ],
          "name": "stdout"
        }
      ]
    }
  ]
}